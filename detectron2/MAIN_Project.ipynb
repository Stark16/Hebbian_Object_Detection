{
 "cells": [
  {
   "cell_type": "markdown",
   "metadata": {},
   "source": [
    "---\n",
    "## Josh Knize and Pradyumn Pathak Final Project Submission\n",
    "---"
   ]
  },
  {
   "cell_type": "markdown",
   "metadata": {},
   "source": [
    "### Project Setup:\n",
    "\n",
    "We would recommend creating a virtual environment for this notebook:\n",
    "* Recomended Python=3.8"
   ]
  },
  {
   "cell_type": "code",
   "execution_count": null,
   "metadata": {
    "vscode": {
     "languageId": "shellscript"
    }
   },
   "outputs": [],
   "source": [
    "!git clone https://github.com/facebookresearch/detectron2.git\n",
    "!python -m pip install -e detectron2\n",
    "\n",
    "!pip install gdown\n",
    "!pip install torch==1.8.1+cu111 torchvision==0.9.1+cu111 torchaudio==0.8.1 -f https://download.pytorch.org/whl/torch_stable.html\n",
    "!pip install fvcore\n",
    "!pip install opencv-python\n",
    "\n",
    "!gdown --id 1MM6kODxnDvkVzzOuOYYbwrP5uou1DOC -O datasets.zip\n",
    "!gdown --id 13JG4Sh7Fpad8O6eB_fQe7C2wQmO7hRtj -O Hebbnet_backbone.zip\n",
    "\n",
    "!python -c \"import zipfile; zipfile.ZipFile('dataset.zip', 'r').extractall('dataset')\"\n",
    "!python -c \"import zipfile; zipfile.ZipFile('Hebbnet_backbone.zip', 'r').extractall('Hebbnet_backbone')\"\n",
    "!python -c \"import shutil; shutil.move('Hebbnet_backbone/__init__.py', './detectron2/detectron2/modeling/backbone/__init__.py'); shutil.move('Hebbnet_backbone/hebbnet_backbone.py', './detectron2/detectron2/modeling/backbone/hebbnet_backbone.py'); shutil.move('Hebbnet_backbone/hebbnet_backbone.yaml', './detectron2/configs/COCO-Detection/hebbnet_backbone.yaml')\"\n"
   ]
  },
  {
   "cell_type": "markdown",
   "metadata": {},
   "source": [
    "## !! After the above stage please move this notebook inside the `detectron2` directory, and set the following variable to the same path:"
   ]
  },
  {
   "cell_type": "code",
   "execution_count": null,
   "metadata": {},
   "outputs": [],
   "source": [
    "PATH_detectron2 = \"/path/to/your/notebook\""
   ]
  },
  {
   "cell_type": "markdown",
   "metadata": {},
   "source": [
    "### Details about the dataset:\n",
    "\n",
    "* This is a custom dataset created from COCO-Dataset\n",
    "* It is a detection dataset only containing one object - `dog`\n",
    "* TODO: ADD MORE INFO ABOUT THE DATASET"
   ]
  },
  {
   "cell_type": "code",
   "execution_count": null,
   "metadata": {},
   "outputs": [],
   "source": [
    "# Setting up runtime Work Directory and Importing Libraries\n",
    "\n",
    "import os\n",
    "os.chdir(PATH_detectron2)\n",
    "print(os.getcwd())\n",
    "from detectron2.data.datasets import register_coco_instances\n",
    "from detectron2.data import DatasetCatalog, MetadataCatalog\n",
    "\n",
    "from detectron2.config import get_cfg\n",
    "from detectron2.engine import DefaultTrainer\n",
    "import torch\n",
    "\n",
    "from detectron2.evaluation import COCOEvaluator, inference_on_dataset\n",
    "from detectron2.data import build_detection_test_loader"
   ]
  },
  {
   "cell_type": "code",
   "execution_count": null,
   "metadata": {},
   "outputs": [],
   "source": [
    "# Setting up the custom dataset for training:\n",
    "\n",
    "register_coco_instances(\"coco_train_dog\", {}, \"../datasets/coco/annotations/dog_instances_train2017.json\", \"../datasets/coco/train2017_dog\")\n",
    "register_coco_instances(\"coco_val_dog\", {}, \"../datasets/coco/annotations/dog_instances_val2017.json\", \"../datasets/coco/val2017_dog\")\n",
    "\n",
    "my_dataset_metadata = MetadataCatalog.get(\"coco_train_dog\")\n",
    "my_dataset_metadata.thing_classes = [\"dog\"]\n",
    "dataset_dicts = DatasetCatalog.get(\"coco_train_dog\")"
   ]
  },
  {
   "cell_type": "markdown",
   "metadata": {},
   "source": [
    "\n",
    "---\n",
    "## 1. The following segment is for Training and Evaluating The FRCNN with Resnet Backbone for control:"
   ]
  },
  {
   "cell_type": "code",
   "execution_count": null,
   "metadata": {},
   "outputs": [],
   "source": [
    "# 1a. Set the configuration to load teh Resent Based FRCNN architecture:\n",
    "\n",
    "cfg = get_cfg()\n",
    "cfg.merge_from_file(\"configs/COCO-Detection/faster_rcnn_R_50_C4_1x.yaml\") #ImageNet pre-trained\n",
    "cfg.OUTPUT_DIR = f\"{PATH_detectron2}/output/dog_resnet_test\"\n",
    "cfg.MODEL.ROI_HEADS.SCORE_THRESH_TEST = 0.7\n",
    "\n",
    "cfg.DATASETS.TRAIN = (\"coco_train_dog\",)\n",
    "cfg.DATASETS.TEST = (\"coco_val_dog\",)\n",
    "cfg.MODEL.ROI_HEADS.NUM_CLASSES = 1\n",
    "cfg.MODEL.ROI_HEADS.NMS_THRESH_TEST = 0.5\n",
    "cfg.SOLVER.IMS_PER_BATCH = 2\n",
    "cfg.SOLVER.BASE_LR = 0.0025\n",
    "cfg.SOLVER.MAX_ITER = 50000\n",
    "cfg.SOLVER.CHECKPOINT_PERIOD = 1000\n",
    "cfg.TEST.EVAL_PERIOD = 1000\n",
    "\n",
    "# run on GPU\n",
    "cfg.MODEL.DEVICE = 'cuda'"
   ]
  },
  {
   "cell_type": "code",
   "execution_count": null,
   "metadata": {},
   "outputs": [],
   "source": [
    "# 1b. Load the Trainer for the defiend Resnet-FRCNN architecture and train:\n",
    "\n",
    "trainer = DefaultTrainer(cfg)\n",
    "trainer.model.to(cfg.MODEL.DEVICE)\n",
    "\n",
    "trainer.train()"
   ]
  },
  {
   "cell_type": "code",
   "execution_count": null,
   "metadata": {},
   "outputs": [],
   "source": [
    "# 1c. Saving and Evaluation of the model\n",
    "\n",
    "output_dir = f\"{PATH_detectron2}/dog_resnet_test\"\n",
    "cfg.MODEL.WEIGHTS = output_dir + '/RESNET_BackBone_model_final.pth'\n",
    "\n",
    "trainer.model.eval()\n",
    "\n",
    "evaluator = COCOEvaluator(\"coco_val_subset\", (\"bbox\",), False, output_dir=output_dir)\n",
    "val_loader = build_detection_test_loader(cfg, \"coco_val_dog\")\n",
    "print(inference_on_dataset(trainer.model, val_loader, evaluator))"
   ]
  },
  {
   "cell_type": "markdown",
   "metadata": {},
   "source": [
    "### Importand Note:\n",
    "* The FRCNN with Resnet Backbone uses **pretrained weights** on ImageNet but our HebbNet architecture is learning from scrach in this detection architecture\n",
    "* The Resnet architecture in Resnet Backbone has a larger input `img-size`, allowing for higher feature throughput from the get go\n",
    "---"
   ]
  },
  {
   "cell_type": "markdown",
   "metadata": {},
   "source": [
    "---\n",
    "## 2. Training the FRCNN with Hebbnet Backbone:"
   ]
  },
  {
   "cell_type": "code",
   "execution_count": null,
   "metadata": {},
   "outputs": [],
   "source": [
    "# 2a. Setting the primary configurations, ensuring we use the [Custom] HebbNet Backbone:\n",
    "\n",
    "cfg = get_cfg()\n",
    "cfg.merge_from_file(\"configs/COCO-Detection/hebbnet_backbone.yaml\")     # Loading the Custom HebbNet Backbone Configuration template\n",
    "cfg.OUTPUT_DIR = f\"{PATH_detectron2}/output/dog_hebbnet_test\"\n",
    "cfg.MODEL.ROI_HEADS.SCORE_THRESH_TEST = 0.7\n",
    "\n",
    "cfg.DATASETS.TRAIN = (\"coco_train_dog\",)\n",
    "cfg.DATASETS.TEST = (\"coco_val_dog\",)\n",
    "cfg.MODEL.ROI_HEADS.NUM_CLASSES = 1\n",
    "cfg.MODEL.OUTPUT_LAYER_SIZE = 1\n",
    "cfg.MODEL.ROI_HEADS.NMS_THRESH_TEST = 0.5\n",
    "cfg.SOLVER.IMS_PER_BATCH = 1\n",
    "cfg.SOLVER.BASE_LR = .00002\n",
    "cfg.SOLVER.MAX_ITER = 5500*2\n",
    "\n",
    "# run on GPU\n",
    "cfg.MODEL.DEVICE = 'cuda'"
   ]
  },
  {
   "cell_type": "markdown",
   "metadata": {},
   "source": [
    "#### While Loading the secondary custom configurations:\n",
    "- Our input `image-size` is `128x128`, The reason being we cannot train the model for larger `image-size` due to the following problem:\n",
    "    - We run into `CUDA: Out of Memory Model`: Due to the hidden layers having way too many neurons caused due to a lack of Convolution\n",
    "- We are also leaving out `PROPOSAL_GENERATOR` from our model\n",
    "- The Batch size is set to 1, because we are using Hebbian Learning, but also because of memory constraints"
   ]
  },
  {
   "cell_type": "code",
   "execution_count": null,
   "metadata": {},
   "outputs": [],
   "source": [
    "# Loading Secondary configs for custom backbone:\n",
    "\n",
    "cfg.INPUT.MIN_SIZE_TRAIN = (128,)\n",
    "cfg.INPUT.MIN_SIZE_TRAIN_SAMPLING = \"choice\"\n",
    "cfg.INPUT.MAX_SIZE_TRAIN = 128\n",
    "cfg.INPUT.MIN_SIZE_TEST = 128\n",
    "cfg.INPUT.MAX_SIZE_TEST = 128\n",
    "# cfg.PROPOSAL_GENERATOR: PrecomputedProposals # this may be an option to potentially avoid issues with proposal generation\n",
    "cfg.MODEL.ROI_HEADS.IN_FEATURES: ['res4']\n"
   ]
  },
  {
   "cell_type": "markdown",
   "metadata": {},
   "source": [
    "- There are also major changes to the `ROIHead` and `BoXHead` in FRCNN:\n",
    "    - We opted to using the `StandardROIHeads` because it made the integration of HebbNet Backbone easier\n",
    "    - We are also limited the `Number Of Channels` in the `FilterMaps` that the `ROIHead` can work with to `8` due to GPU memory constraints\n",
    "    - The `Number Of Fully-Connected Layers` in the `FilterMaps` is also `8` due to GPU memory constraints"
   ]
  },
  {
   "cell_type": "code",
   "execution_count": null,
   "metadata": {},
   "outputs": [],
   "source": [
    "cfg.MODEL.ROI_HEADS.NAME = \"StandardROIHeads\"\n",
    "cfg.MODEL.ROI_BOX_HEAD.NAME = \"FastRCNNConvFCHead\"\n",
    "cfg.MODEL.ROI_BOX_HEAD.FC_DIM = 8           # Fully Connected Channel Depth to 8\n",
    "cfg.MODEL.ROI_BOX_HEAD.CONV_DIM = 8         # Channel Depth to 8\n",
    "cfg.MODEL.ROI_BOX_HEAD.NUM_CONV = 2\n",
    "cfg.MODEL.ROI_BOX_HEAD.NUM_FC = 2\n",
    "cfg.SOLVER.CHECKPOINT_PERIOD = 9999999999999999999999999999999999"
   ]
  },
  {
   "cell_type": "markdown",
   "metadata": {},
   "source": [
    "#### Finally, the following are the additional parameters exclusive to the Hebbian Backbone:"
   ]
  },
  {
   "cell_type": "code",
   "execution_count": null,
   "metadata": {},
   "outputs": [],
   "source": [
    "cfg.MODEL.NUM_HIDDEN = 8\n",
    "cfg.MODEL.HEBB_LR = .00000001 # fewest number of zeros \"allowed\" before gradient explosion\n",
    "\n",
    "cfg.MODEL.IMG_VIS = False\n",
    "cfg.MODEL.FEAT_VIS = False\n",
    "cfg.MODEL.FEAT_VIS_NUM = 0"
   ]
  },
  {
   "cell_type": "code",
   "execution_count": null,
   "metadata": {},
   "outputs": [],
   "source": [
    "# 2b. Load the Trainer for the defiend Resnet-FRCNN architecture and train:\n",
    "\n",
    "trainer = DefaultTrainer(cfg)\n",
    "trainer.model.to(cfg.MODEL.DEVICE)\n",
    "\n",
    "trainer.train()"
   ]
  },
  {
   "cell_type": "code",
   "execution_count": null,
   "metadata": {},
   "outputs": [],
   "source": [
    "# 2c. Saving and Evaluation of the model\n",
    "\n",
    "output_dir = f\"{PATH_detectron2}/dog_hebbnet_test\"\n",
    "cfg.MODEL.WEIGHTS = output_dir + '/HebbNet_BackBone_model_final.pth'\n",
    "\n",
    "trainer.model.eval()\n",
    "\n",
    "evaluator = COCOEvaluator(\"coco_val_subset\", (\"bbox\",), False, output_dir=output_dir)\n",
    "val_loader = build_detection_test_loader(cfg, \"coco_val_dog\")\n",
    "print(inference_on_dataset(trainer.model, val_loader, evaluator))"
   ]
  },
  {
   "cell_type": "markdown",
   "metadata": {},
   "source": []
  }
 ],
 "metadata": {
  "kernelspec": {
   "display_name": "hebdet",
   "language": "python",
   "name": "python3"
  },
  "language_info": {
   "name": "python",
   "version": "3.8.20"
  }
 },
 "nbformat": 4,
 "nbformat_minor": 2
}
